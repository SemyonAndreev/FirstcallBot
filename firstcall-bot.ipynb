{
 "cells": [
  {
   "cell_type": "code",
   "execution_count": 1,
   "id": "c3f3cba8",
   "metadata": {
    "_cell_guid": "b1076dfc-b9ad-4769-8c92-a6c4dae69d19",
    "_uuid": "8f2839f25d086af736a60e9eeb907d3b93b6e0e5",
    "execution": {
     "iopub.execute_input": "2023-05-16T14:19:46.362838Z",
     "iopub.status.busy": "2023-05-16T14:19:46.362162Z",
     "iopub.status.idle": "2023-05-16T14:20:22.509078Z",
     "shell.execute_reply": "2023-05-16T14:20:22.507858Z"
    },
    "papermill": {
     "duration": 36.155043,
     "end_time": "2023-05-16T14:20:22.511812",
     "exception": false,
     "start_time": "2023-05-16T14:19:46.356769",
     "status": "completed"
    },
    "tags": []
   },
   "outputs": [
    {
     "name": "stdout",
     "output_type": "stream",
     "text": [
      "Collecting telebot\r\n",
      "  Downloading telebot-0.0.5-py3-none-any.whl (4.8 kB)\r\n",
      "Collecting pyTelegramBotAPI\r\n",
      "  Downloading pyTelegramBotAPI-4.11.0.tar.gz (230 kB)\r\n",
      "\u001b[2K     \u001b[90m━━━━━━━━━━━━━━━━━━━━━━━━━━━━━━━━━━━━━━━\u001b[0m \u001b[32m230.4/230.4 kB\u001b[0m \u001b[31m6.7 MB/s\u001b[0m eta \u001b[36m0:00:00\u001b[0m\r\n",
      "\u001b[?25h  Preparing metadata (setup.py) ... \u001b[?25l-\b \b\\\b \bdone\r\n",
      "\u001b[?25hRequirement already satisfied: requests in /opt/conda/lib/python3.10/site-packages (from telebot) (2.28.2)\r\n",
      "Requirement already satisfied: certifi>=2017.4.17 in /opt/conda/lib/python3.10/site-packages (from requests->telebot) (2022.12.7)\r\n",
      "Requirement already satisfied: idna<4,>=2.5 in /opt/conda/lib/python3.10/site-packages (from requests->telebot) (3.4)\r\n",
      "Requirement already satisfied: urllib3<1.27,>=1.21.1 in /opt/conda/lib/python3.10/site-packages (from requests->telebot) (1.26.15)\r\n",
      "Requirement already satisfied: charset-normalizer<4,>=2 in /opt/conda/lib/python3.10/site-packages (from requests->telebot) (2.1.1)\r\n",
      "Building wheels for collected packages: pyTelegramBotAPI\r\n",
      "  Building wheel for pyTelegramBotAPI (setup.py) ... \u001b[?25l-\b \b\\\b \b|\b \bdone\r\n",
      "\u001b[?25h  Created wheel for pyTelegramBotAPI: filename=pyTelegramBotAPI-4.11.0-py3-none-any.whl size=212399 sha256=a6b2e73cb58c8ca4486202fc54b4021c1d2c62a9ae587de1572766ac814eaf22\r\n",
      "  Stored in directory: /root/.cache/pip/wheels/ee/54/14/73e9f99d3a4c02df8d106566f93bd29d41ab7f3915cc13a23d\r\n",
      "Successfully built pyTelegramBotAPI\r\n",
      "Installing collected packages: pyTelegramBotAPI, telebot\r\n",
      "Successfully installed pyTelegramBotAPI-4.11.0 telebot-0.0.5\r\n",
      "\u001b[33mWARNING: Running pip as the 'root' user can result in broken permissions and conflicting behaviour with the system package manager. It is recommended to use a virtual environment instead: https://pip.pypa.io/warnings/venv\u001b[0m\u001b[33m\r\n",
      "\u001b[0mCollecting selenium\r\n",
      "  Downloading selenium-4.9.1-py3-none-any.whl (6.6 MB)\r\n",
      "\u001b[2K     \u001b[90m━━━━━━━━━━━━━━━━━━━━━━━━━━━━━━━━━━━━━━━━\u001b[0m \u001b[32m6.6/6.6 MB\u001b[0m \u001b[31m45.8 MB/s\u001b[0m eta \u001b[36m0:00:00\u001b[0m\r\n",
      "\u001b[?25hRequirement already satisfied: certifi>=2021.10.8 in /opt/conda/lib/python3.10/site-packages (from selenium) (2022.12.7)\r\n",
      "Collecting trio-websocket~=0.9\r\n",
      "  Downloading trio_websocket-0.10.2-py3-none-any.whl (17 kB)\r\n",
      "Collecting trio~=0.17\r\n",
      "  Downloading trio-0.22.0-py3-none-any.whl (384 kB)\r\n",
      "\u001b[2K     \u001b[90m━━━━━━━━━━━━━━━━━━━━━━━━━━━━━━━━━━━━━━\u001b[0m \u001b[32m384.9/384.9 kB\u001b[0m \u001b[31m23.1 MB/s\u001b[0m eta \u001b[36m0:00:00\u001b[0m\r\n",
      "\u001b[?25hRequirement already satisfied: urllib3[socks]<3,>=1.26 in /opt/conda/lib/python3.10/site-packages (from selenium) (1.26.15)\r\n",
      "Requirement already satisfied: sortedcontainers in /opt/conda/lib/python3.10/site-packages (from trio~=0.17->selenium) (2.4.0)\r\n",
      "Requirement already satisfied: sniffio in /opt/conda/lib/python3.10/site-packages (from trio~=0.17->selenium) (1.3.0)\r\n",
      "Collecting async-generator>=1.9\r\n",
      "  Downloading async_generator-1.10-py3-none-any.whl (18 kB)\r\n",
      "Requirement already satisfied: idna in /opt/conda/lib/python3.10/site-packages (from trio~=0.17->selenium) (3.4)\r\n",
      "Requirement already satisfied: attrs>=19.2.0 in /opt/conda/lib/python3.10/site-packages (from trio~=0.17->selenium) (22.2.0)\r\n",
      "Collecting exceptiongroup>=1.0.0rc9\r\n",
      "  Downloading exceptiongroup-1.1.1-py3-none-any.whl (14 kB)\r\n",
      "Collecting outcome\r\n",
      "  Downloading outcome-1.2.0-py2.py3-none-any.whl (9.7 kB)\r\n",
      "Collecting wsproto>=0.14\r\n",
      "  Downloading wsproto-1.2.0-py3-none-any.whl (24 kB)\r\n",
      "Requirement already satisfied: PySocks!=1.5.7,<2.0,>=1.5.6 in /opt/conda/lib/python3.10/site-packages (from urllib3[socks]<3,>=1.26->selenium) (1.7.1)\r\n",
      "Requirement already satisfied: h11<1,>=0.9.0 in /opt/conda/lib/python3.10/site-packages (from wsproto>=0.14->trio-websocket~=0.9->selenium) (0.14.0)\r\n",
      "Installing collected packages: wsproto, outcome, exceptiongroup, async-generator, trio, trio-websocket, selenium\r\n",
      "Successfully installed async-generator-1.10 exceptiongroup-1.1.1 outcome-1.2.0 selenium-4.9.1 trio-0.22.0 trio-websocket-0.10.2 wsproto-1.2.0\r\n",
      "\u001b[33mWARNING: Running pip as the 'root' user can result in broken permissions and conflicting behaviour with the system package manager. It is recommended to use a virtual environment instead: https://pip.pypa.io/warnings/venv\u001b[0m\u001b[33m\r\n",
      "\u001b[0m"
     ]
    }
   ],
   "source": [
    "#Is there a place for Selenium on Kaggle?\n",
    "#This algorithm implements the entrance to the personal account on the site \n",
    "#to collect applications and send them to Telegram\n",
    "!pip install telebot\n",
    "!pip install selenium\n",
    "import os, sys\n",
    "from selenium import webdriver\n",
    "from selenium.common.exceptions import NoSuchElementException\n",
    "import time\n",
    "import telebot"
   ]
  },
  {
   "cell_type": "code",
   "execution_count": 2,
   "id": "b935889a",
   "metadata": {
    "execution": {
     "iopub.execute_input": "2023-05-16T14:20:22.528434Z",
     "iopub.status.busy": "2023-05-16T14:20:22.527885Z",
     "iopub.status.idle": "2023-05-16T14:20:22.536943Z",
     "shell.execute_reply": "2023-05-16T14:20:22.535933Z"
    },
    "papermill": {
     "duration": 0.020642,
     "end_time": "2023-05-16T14:20:22.540232",
     "exception": false,
     "start_time": "2023-05-16T14:20:22.519590",
     "status": "completed"
    },
    "tags": []
   },
   "outputs": [],
   "source": [
    "#The best way to show an element to Selenium is xpath\n",
    "#You can easily copy it from the html code on the site\n",
    "def authentication():\n",
    "    driver = webdriver.Chrome()\n",
    "    driver.get(\"https://link\")\n",
    "    time.sleep(3)\n",
    "    #time.sleep is here just in case the page has time to load\n",
    "    driver.find_element(\"xpath\",'//').click()\n",
    "    time.sleep(3)\n",
    "    id_area = driver.find_element(\"xpath\",'//')\n",
    "    id_area.send_keys(\"12345678\")\n",
    "    time.sleep(3)\n",
    "    driver.find_element(\"xpath\",'//').click()\n",
    "    time.sleep(3)\n",
    "    password_area = driver.find_element(\"xpath\",'//')\n",
    "    password_area.send_keys(\"87654321\")\n",
    "    time.sleep(3)\n",
    "    driver.find_element(\"xpath\",'//').click()\n",
    "    time.sleep(4)"
   ]
  },
  {
   "cell_type": "code",
   "execution_count": 3,
   "id": "06301ec0",
   "metadata": {
    "execution": {
     "iopub.execute_input": "2023-05-16T14:20:22.556648Z",
     "iopub.status.busy": "2023-05-16T14:20:22.555496Z",
     "iopub.status.idle": "2023-05-16T14:20:22.572072Z",
     "shell.execute_reply": "2023-05-16T14:20:22.570743Z"
    },
    "papermill": {
     "duration": 0.028185,
     "end_time": "2023-05-16T14:20:22.575163",
     "exception": false,
     "start_time": "2023-05-16T14:20:22.546978",
     "status": "completed"
    },
    "tags": []
   },
   "outputs": [],
   "source": [
    "bot = telebot.TeleBot(\"API\")\n",
    "\n",
    "@bot.message_handler(commands=['start'])\n",
    "def start_message(message):\n",
    "    bot.send_message(message.chat.id,'Hello')\n",
    "\n",
    "@bot.message_handler(content_types=['text'])\n",
    "def get_text_messages(message):\n",
    "    if message.text == \"Secret word\":\n",
    "        c = 1\n",
    "        #infinity loop\n",
    "        while c==1:\n",
    "            driver.refresh()\n",
    "            content = driver.find_element(\"xpath\",'/').text\n",
    "            #error handling\n",
    "            if len(content) > 0:\n",
    "                keys = ['Word1','Word2','Word3']\n",
    "                if all(value in content for value in keys):\n",
    "                    if ('Statement1' in content) or ('Statement2' in content):\n",
    "                        time.sleep(7)\n",
    "                    else:\n",
    "                        if ('Statement3' in content) or ('Statement4' in content):\n",
    "                            driver.find_element(\"xpath\",'/').click()\n",
    "                            driver.switch_to.window(driver.window_handles[1])\n",
    "                            url = driver.current_url\n",
    "                            text = driver.find_element(\"xpath\",'/').text\n",
    "                            if 'Statement5' in text:\n",
    "                                driver.close()\n",
    "                                driver.switch_to.window(driver.window_handles[0])\n",
    "                                time.sleep(60)\n",
    "                            else:\n",
    "                                time.sleep(1)\n",
    "                                bot.send_message(message.from_user.id, text=text)\n",
    "                                bot.send_message(message.from_user.id, text=url)\n",
    "                                driver.close()\n",
    "                                driver.switch_to.window(driver.window_handles[0])\n",
    "                                time.sleep(200)\n",
    "                        else:\n",
    "                            time.sleep(7)\n",
    "                else:\n",
    "                    time.sleep(7)\n",
    "            else:\n",
    "                error = 'Smth wrong'\n",
    "                bot.send_message(message.from_user.id, text=error)\n",
    "                time.sleep(2000)\n",
    "#bot.infinity_polling()\n",
    "#Thanks for reading, I'll be glad to discuss how Selenium works in the comments!"
   ]
  }
 ],
 "metadata": {
  "kernelspec": {
   "display_name": "Python 3",
   "language": "python",
   "name": "python3"
  },
  "language_info": {
   "codemirror_mode": {
    "name": "ipython",
    "version": 3
   },
   "file_extension": ".py",
   "mimetype": "text/x-python",
   "name": "python",
   "nbconvert_exporter": "python",
   "pygments_lexer": "ipython3",
   "version": "3.10.10"
  },
  "papermill": {
   "default_parameters": {},
   "duration": 51.365361,
   "end_time": "2023-05-16T14:20:24.009124",
   "environment_variables": {},
   "exception": null,
   "input_path": "__notebook__.ipynb",
   "output_path": "__notebook__.ipynb",
   "parameters": {},
   "start_time": "2023-05-16T14:19:32.643763",
   "version": "2.4.0"
  }
 },
 "nbformat": 4,
 "nbformat_minor": 5
}
